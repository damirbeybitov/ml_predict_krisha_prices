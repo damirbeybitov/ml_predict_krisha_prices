{
 "cells": [
  {
   "cell_type": "code",
   "execution_count": null,
   "id": "42d56610-e08b-44f1-9ac8-1c68416d25b0",
   "metadata": {
    "pycharm": {
     "is_executing": true,
     "name": "#%%\n"
    }
   },
   "outputs": [],
   "source": [
    "import requests\n",
    "import re\n",
    "from bs4 import BeautifulSoup\n",
    "import pandas as pd\n",
    "import time"
   ]
  },
  {
   "cell_type": "code",
   "execution_count": null,
   "id": "81bafca2-58f0-48c0-a13b-0327037f7092",
   "metadata": {
    "pycharm": {
     "name": "#%%\n"
    }
   },
   "outputs": [],
   "source": [
    "def get_apartment_data(url):\n",
    "    response = requests.get(url)\n",
    "    time.sleep(1)\n",
    "    soup = BeautifulSoup(response.text, 'html.parser')\n",
    "\n",
    "    # Extracting room count\n",
    "    title_text = soup.find(\"div\", class_=\"offer__advert-title\").find(\"h1\").text\n",
    "    room_count_match = re.search(r'(\\d+)-комнатная', title_text)\n",
    "    room_count = int(room_count_match.group(1)) if room_count_match else None\n",
    "\n",
    "    # Extracting quadrature\n",
    "    try:\n",
    "        quadrature = float(title_text.split(',')[1].split()[0])\n",
    "    except IndexError:\n",
    "        print(\"Index out of bound for quadrature\")\n",
    "\n",
    "    # Extracting floor\n",
    "    floor_div = soup.find(\"div\", {\"data-name\": \"flat.floor\"})\n",
    "    if floor_div is not None:\n",
    "        floor_info_text = floor_div.find(\"div\", class_=\"offer__advert-short-info\").text\n",
    "        floor_info = floor_info_text.split('из')\n",
    "        try:\n",
    "            floor_text = floor_info[0].strip()+\"/\"+floor_info[-1].strip()\n",
    "        except IndexError:\n",
    "            print(\"Index out of bound for floor_text\")\n",
    "        floor = round(float(floor_info[0].strip()) / float(floor_info[-1].strip()), 2)\n",
    "    else:\n",
    "        floor_text = '1/1'\n",
    "        floor = 1\n",
    "        \n",
    "    # Extracting region\n",
    "    try:\n",
    "        region_text = soup.find(\"div\", class_=\"offer__location offer__advert-short-info\").find(\"span\").text.split(',')[-1].strip()\n",
    "        # print(region_text)\n",
    "    except IndexError:\n",
    "        print(\"Index out of bound for region_text\")\n",
    "        \n",
    "    if region_text == 'Алатауский р-н':\n",
    "        region = 1e-10\n",
    "    elif region_text == 'Алмалинский р-н':\n",
    "        region = 0.075\n",
    "    elif region_text == 'Ауэзовский р-н':\n",
    "        region = 0.51\n",
    "    elif region_text == 'Бостандыкский р-н':\n",
    "        region = 1\n",
    "    elif region_text == 'Жетысуский р-н':\n",
    "        region = 0.076\n",
    "    elif region_text == 'Медеуский р-н':\n",
    "        region = 0.69\n",
    "    elif region_text == 'Наурызбайский р-н':\n",
    "        region = 0.11\n",
    "    elif region_text == 'Турксибский р-н':\n",
    "        region = 0.083\n",
    "    elif region_text == 'Алматы':\n",
    "        region = None\n",
    "\n",
    "    # Extracting year\n",
    "    year_div = soup.find(\"div\", {\"data-name\": \"house.year\"})\n",
    "    year_text = year_div.find(\"div\", class_=\"offer__advert-short-info\").text\n",
    "    year = int(''.join(filter(str.isdigit, year_text)))\n",
    "\n",
    "    # Extracting price\n",
    "    \n",
    "    price_text = soup.find(class_='offer__price').text\n",
    "    price = int(\"\".join(filter(str.isdigit, price_text)))\n",
    "\n",
    "    # Extracting about\n",
    "    about_dict = {}\n",
    "\n",
    "    apartmentAbout = soup.find(\"div\", class_=\"offer__parameters\")\n",
    "\n",
    "    if len(apartmentAbout) != 1:\n",
    "        desired_data_names = ['flat.toilet', 'flat.balcony', 'flat.balcony_g', 'flat.door', 'inet.type', 'flat.parking',\n",
    "                              'live.furniture', 'flat.flooring']\n",
    "\n",
    "        for desired_data_name in desired_data_names:\n",
    "            # Find the dt element with the specified data-name\n",
    "            dt_element = apartmentAbout.find('dt', {\"data-name\": desired_data_name})\n",
    "\n",
    "            about_name = desired_data_name.replace('.', '_')\n",
    "            # print(about_name)\n",
    "            # If the dt element is found, extract the dd value\n",
    "            if dt_element:\n",
    "                dd_element = dt_element.find_next_sibling(\"dd\")\n",
    "                if dd_element:\n",
    "                    about_dict[about_name] = dd_element.get_text().strip()\n",
    "                    # print(dd_element.get_text().strip())\n",
    "            else:\n",
    "                about_dict[about_name] = 'no_info'\n",
    "\n",
    "    # Extracting ceiling\n",
    "    dt_element = apartmentAbout.find('dt', {\"data-name\": 'ceiling'})\n",
    "\n",
    "    if dt_element:\n",
    "        dd_element = dt_element.find_next_sibling(\"dd\")\n",
    "        if dd_element:\n",
    "            try:\n",
    "                about_dict['ceiling'] = dd_element.get_text().strip().split()[0]\n",
    "            except IndexError:\n",
    "                print(\"Index out of bound for dd_element\")\n",
    "    else:\n",
    "        about_dict['ceiling'] = None\n",
    "        \n",
    "    # Extracting flat.priv_dorm\n",
    "    dt_element = apartmentAbout.find('dt', {\"data-name\": 'flat.priv_dorm'})\n",
    "\n",
    "    if dt_element:\n",
    "        dd_element = dt_element.find_next_sibling(\"dd\")\n",
    "        if dd_element:\n",
    "            if dd_element.get_text().strip() == 'да':\n",
    "                about_dict['flat_priv_dorm'] = 1\n",
    "            else:\n",
    "                about_dict['flat_priv_dorm'] = 0\n",
    "    else:\n",
    "        about_dict['flat_priv_dorm'] = 0\n",
    "\n",
    "    total_dict = {\"price\": price,\n",
    "                  \"room_count\": room_count,\n",
    "                  \"quadrature\": quadrature,\n",
    "                  \"floor_text\": floor_text,\n",
    "                  \"floor\": floor,\n",
    "                  \"region_text\": region_text,\n",
    "                  \"region\": region,\n",
    "                  \"year\": year}\n",
    "    total_dict.update(about_dict)\n",
    "    # print(total_dict)\n",
    "    return total_dict"
   ]
  },
  {
   "cell_type": "code",
   "execution_count": null,
   "id": "90d94e14-e4c1-4247-88c2-514978115a06",
   "metadata": {
    "pycharm": {
     "name": "#%%\n"
    },
    "scrolled": true
   },
   "outputs": [],
   "source": [
    "data = []\n",
    "df = pd.read_csv('last_links_of_ap.csv')\n",
    "\n",
    "links = df.iloc[:, 0].values\n",
    "i=1\n",
    "# in range() you need to change values to scrap in parts\n",
    "for link in links[0:10]:\n",
    "    try:\n",
    "        print(i, link)\n",
    "        i+=1\n",
    "        apartment_data = get_apartment_data(link)\n",
    "        data.append(apartment_data)\n",
    "    except Exception as e:\n",
    "        print(f\"Failed to extract data from {link}. Error: {e}\")"
   ]
  },
  {
   "cell_type": "code",
   "execution_count": null,
   "id": "daca4681-65a5-4939-8b73-a0890586d9c6",
   "metadata": {
    "pycharm": {
     "name": "#%%\n"
    }
   },
   "outputs": [],
   "source": [
    "df = pd.DataFrame(data, columns=[\"price\", \"room_count\", \"quadrature\", \"floor_text\", \"floor\", \"region_text\", \"region\", \"year\",  \n",
    "                                 \"flat_toilet\", \"flat_balcony\", \"flat_balcony_g\", \n",
    "                                 \"flat_door\", \"inet_type\", \"flat_parking\", \"live_furniture\", \n",
    "                                 \"flat_flooring\", \"ceiling\"])\n",
    "# you need to change file name to what part you scrapped\n",
    "df.to_csv(\"apartments_data_0-10.csv\", index=False)"
   ]
  },
  {
   "cell_type": "code",
   "execution_count": null,
   "id": "a62761dc-5a5e-4dd6-801b-17b61d95ee0a",
   "metadata": {
    "pycharm": {
     "name": "#%%\n"
    }
   },
   "outputs": [],
   "source": [
    "# data1 = []\n",
    "# links=['https://krisha.kz/a/show/665883375', 'https://krisha.kz/a/show/684816534', 'https://krisha.kz/a/show/685857867', 'https://krisha.kz/a/show/686737967', 'https://krisha.kz/a/show/669457126', 'https://krisha.kz/a/show/673332515', 'https://krisha.kz/a/show/665883374', 'https://krisha.kz/a/show/688585055', 'https://krisha.kz/a/show/685857868', 'https://krisha.kz/a/show/678646146', 'https://krisha.kz/a/show/665342545', 'https://krisha.kz/a/show/683146369', 'https://krisha.kz/a/show/685857869', 'https://krisha.kz/a/show/665342547', 'https://krisha.kz/a/show/688585056', 'https://krisha.kz/a/show/683146365', 'https://krisha.kz/a/show/665342549', 'https://krisha.kz/a/show/684816526', 'https://krisha.kz/a/show/669078601', 'https://krisha.kz/a/show/665342550', 'https://krisha.kz/a/show/684816527', 'https://krisha.kz/a/show/673332516',]\n",
    "# for link in links:\n",
    "#     try:\n",
    "#         print(link)\n",
    "#         apartment_data = get_apartment_data(link)\n",
    "#         data1.append(apartment_data)\n",
    "#     except Exception as e:\n",
    "#         print(f\"Failed to extract data from {link}. Error: {e}\")"
   ]
  },
  {
   "cell_type": "code",
   "execution_count": null,
   "id": "87b166bb-50eb-4aac-8905-4820fb1d5b38",
   "metadata": {
    "pycharm": {
     "name": "#%%\n"
    }
   },
   "outputs": [],
   "source": [
    "# df1 = pd.DataFrame(data1)\n",
    "# df1"
   ]
  },
  {
   "cell_type": "code",
   "execution_count": null,
   "id": "c6e97d1d-5dab-49f1-9d8e-c2d87985938c",
   "metadata": {
    "pycharm": {
     "name": "#%%\n"
    }
   },
   "outputs": [],
   "source": []
  }
 ],
 "metadata": {
  "kernelspec": {
   "display_name": "Python 3 (ipykernel)",
   "language": "python",
   "name": "python3"
  },
  "language_info": {
   "codemirror_mode": {
    "name": "ipython",
    "version": 3
   },
   "file_extension": ".py",
   "mimetype": "text/x-python",
   "name": "python",
   "nbconvert_exporter": "python",
   "pygments_lexer": "ipython3",
   "version": "3.10.7"
  }
 },
 "nbformat": 4,
 "nbformat_minor": 5
}