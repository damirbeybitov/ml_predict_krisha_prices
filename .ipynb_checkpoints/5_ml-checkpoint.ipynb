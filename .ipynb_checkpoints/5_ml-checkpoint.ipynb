{
 "cells": [
  {
   "cell_type": "code",
   "execution_count": null,
   "id": "3f101cc2-7ebe-4112-b11f-08819ea1aa30",
   "metadata": {},
   "outputs": [],
   "source": [
    "import pandas as pd\n",
    "import numpy as np"
   ]
  },
  {
   "cell_type": "code",
   "execution_count": null,
   "id": "5b30cc93-3d3f-47c2-8673-fd51e159852e",
   "metadata": {},
   "outputs": [],
   "source": [
    "df = pd.read_csv('ap_data.csv')\n",
    "df.head()"
   ]
  },
  {
   "cell_type": "code",
   "execution_count": null,
   "id": "8d33c5e8-b518-4529-bf98-04460d13b1fd",
   "metadata": {},
   "outputs": [],
   "source": [
    "df.isna().sum()"
   ]
  },
  {
   "cell_type": "code",
   "execution_count": null,
   "id": "0516f5ca-2189-4db4-9cc2-7d252155fe17",
   "metadata": {},
   "outputs": [],
   "source": [
    "region_mean = df['region'].mean()\n",
    "df['region'].fillna(region_mean, inplace=True)"
   ]
  },
  {
   "cell_type": "code",
   "execution_count": null,
   "id": "b7e004ad-218b-4b04-801b-91e0a4667d48",
   "metadata": {},
   "outputs": [],
   "source": [
    "ceiling_mean = round(df['ceiling'].mean(), 2)\n",
    "df['ceiling'].fillna(ceiling_mean, inplace=True)"
   ]
  },
  {
   "cell_type": "code",
   "execution_count": null,
   "id": "9579d176-a936-4ff1-86ad-d3990443dee2",
   "metadata": {},
   "outputs": [],
   "source": [
    "print(df.shape)\n",
    "df.isna().sum()"
   ]
  },
  {
   "cell_type": "code",
   "execution_count": null,
   "id": "fa86fcff-4613-4ece-854a-dd2487e889df",
   "metadata": {},
   "outputs": [],
   "source": [
    "df.dropna(inplace=True)\n",
    "print(df.shape)\n",
    "df.isna().sum()"
   ]
  },
  {
   "cell_type": "code",
   "execution_count": null,
   "id": "7fc98014-e86c-491f-8bf3-b4faa7db0f0f",
   "metadata": {},
   "outputs": [],
   "source": [
    "df.columns"
   ]
  },
  {
   "cell_type": "code",
   "execution_count": null,
   "id": "ab4716c4-a1a1-408b-86c2-b682f29ee537",
   "metadata": {},
   "outputs": [],
   "source": [
    "columns_to_encode = ['flat_toilet', 'flat_balcony', 'flat_balcony_g', 'flat_door', 'inet_type', 'flat_parking', 'live_furniture', 'flat_flooring']\n",
    "df = pd.get_dummies(df, columns=columns_to_encode, drop_first=True)\n",
    "df"
   ]
  },
  {
   "cell_type": "code",
   "execution_count": null,
   "id": "3de9773f-b373-402c-ad18-f889034a5b2a",
   "metadata": {},
   "outputs": [],
   "source": [
    "df = df.select_dtypes(exclude='object')\n",
    "df"
   ]
  },
  {
   "cell_type": "code",
   "execution_count": null,
   "id": "ddb3ac14-11d9-41a0-812d-aa4a9300a623",
   "metadata": {},
   "outputs": [],
   "source": [
    "df['log_quadrature'] = np.log1p(df['quadrature'])\n",
    "df['log_region'] = np.log1p(df['region'])\n",
    "df['log_ceiling'] = np.log1p(df['ceiling'])\n",
    "df"
   ]
  },
  {
   "cell_type": "code",
   "execution_count": null,
   "id": "f7f54d1b-8fac-41cf-a7f1-0417f7e14924",
   "metadata": {
    "scrolled": true
   },
   "outputs": [],
   "source": [
    "import matplotlib.pyplot as plt\n",
    "import seaborn as sns\n",
    "\n",
    "numerical_columns = df.columns\n",
    "\n",
    "for x_column in numerical_columns:\n",
    "    if x_column != 'price':\n",
    "        plt.figure(figsize=(4, 3))\n",
    "        plt.scatter(df[x_column], df['price'])\n",
    "        plt.xlabel(x_column)\n",
    "        plt.ylabel('Y')\n",
    "        plt.title(f'Scatter Plot of {x_column} vs. Price')\n",
    "        plt.show()"
   ]
  },
  {
   "cell_type": "code",
   "execution_count": null,
   "id": "8ae90020-0283-4252-8ee3-b630ecf33579",
   "metadata": {
    "scrolled": true
   },
   "outputs": [],
   "source": [
    "numerical_columns = ['price', 'room_count', 'quadrature', 'floor', 'region', 'year', 'ceiling']\n",
    "# For each column, drop the outliers\n",
    "for column in numerical_columns:\n",
    "    Q1 = df[column].quantile(0.25)\n",
    "    Q3 = df[column].quantile(0.75)\n",
    "    IQR = Q3 - Q1\n",
    "    lower_bound = Q1 - 1.5 * IQR\n",
    "    upper_bound = Q3 + 1.5 * IQR\n",
    "    \n",
    "    # Filter the dataframe\n",
    "    df = df[(df[column] >= lower_bound) & (df[column] <= upper_bound)]\n",
    "\n",
    "# Once outliers are removed, visualize your data\n",
    "for x_column in numerical_columns:\n",
    "    if x_column != 'price':\n",
    "        plt.figure(figsize=(4, 3))\n",
    "        plt.scatter(df[x_column], df['price'])\n",
    "        plt.xlabel(x_column)\n",
    "        plt.ylabel('Y')\n",
    "        plt.title(f'Scatter Plot of {x_column} vs. Price')\n",
    "        plt.show()\n"
   ]
  },
  {
   "cell_type": "code",
   "execution_count": null,
   "id": "222f2579-0a8a-4387-a569-2fa188870579",
   "metadata": {},
   "outputs": [],
   "source": [
    "df.shape"
   ]
  },
  {
   "cell_type": "code",
   "execution_count": null,
   "id": "fd295601-4ea3-42f3-8eef-d44a715ff9cb",
   "metadata": {},
   "outputs": [],
   "source": [
    "# Assuming you have a DataFrame called 'df'\n",
    "# Calculate the correlation matrix\n",
    "correlation_matrix = df.corr()\n",
    "\n",
    "# Create a heatmap\n",
    "plt.figure(figsize=(20, 15))  # Adjust the figure size if needed\n",
    "sns.heatmap(correlation_matrix, annot=True, cmap='coolwarm', fmt=\".2f\")\n",
    "\n",
    "# Set plot title\n",
    "plt.title(\"Correlation Matrix Heatmap\")\n",
    "\n",
    "# Show the heatmap\n",
    "plt.show()"
   ]
  },
  {
   "cell_type": "code",
   "execution_count": null,
   "id": "077b5bbc-3659-4adc-a0f0-ba89ecb7c115",
   "metadata": {},
   "outputs": [],
   "source": [
    "from sklearn.preprocessing import MinMaxScaler\n",
    "\n",
    "scaler = MinMaxScaler()\n",
    "features_to_normalize = ['room_count', 'quadrature', 'year', 'ceiling']\n",
    "df[features_to_normalize] = scaler.fit_transform(df[features_to_normalize])"
   ]
  },
  {
   "cell_type": "code",
   "execution_count": null,
   "id": "0cd5112f-9ab4-49ae-b8b6-3fec172cb158",
   "metadata": {},
   "outputs": [],
   "source": [
    "from sklearn.preprocessing import MinMaxScaler\n",
    "import random\n",
    "\n",
    "def get_user_input():\n",
    "    # Get input from user\n",
    "    user_data = {}\n",
    "    user_data['room_count'] = float(input(\"Enter room count: \"))\n",
    "    user_data['quadrature'] = float(input(\"Enter quadrature: \"))\n",
    "    user_data['floor'] = float(input(\"Enter floor coeffcoefficient: \"))\n",
    "    user_data['region'] = float(input(\"Enter region coefficient: \"))\n",
    "    user_data['year'] = float(input(\"Enter year: \"))\n",
    "    user_data['ceiling'] = float(input(\"Enter ceiling height (e.g., 2.7 for 2.7m): \"))\n",
    "\n",
    "    options_mapping = {\n",
    "        'flat_toilet': ['no_info', 'нет', 'раздельный', 'совмещенный'],\n",
    "        'flat_balcony': ['балкон', 'балкон и лоджия', 'лоджия', 'несколько балконов или лоджий'],\n",
    "        'flat_balcony_g': ['да', 'нет'],\n",
    "        'flat_door': ['бронированная', 'деревянная', 'металлическая'],\n",
    "        'inet_type': ['no_info', 'оптика', 'проводной', 'через TV кабель'],\n",
    "        'flat_parking': ['гараж', 'паркинг', 'рядом охраняемая стоянка'],\n",
    "        'live_furniture': ['без мебели', 'полностью', 'частично'],\n",
    "        'flat_flooring': ['дерево', 'ковролан', 'ламинат', 'линолеум', 'паркет', 'плитка', 'пробковый']\n",
    "    }\n",
    "\n",
    "    for prefix, options in options_mapping.items():\n",
    "        chosen_option = random.choice(options)\n",
    "        values = [1 if opt == chosen_option else 0 for opt in options]\n",
    "        cols = [str(prefix)+'_'+ str(opt) for opt in options]\n",
    "        # col = \"'\" + \"', '\".join(map(str, cols))+\"'\"\n",
    "        for i in range(len(values)):\n",
    "            user_data[cols[i]] = values[i]  # Fill missing columns with default or most common value\n",
    "            \n",
    "    # Create a DataFrame with the correct data types\n",
    "    user_input_df = pd.DataFrame(np.zeros((1, len(X_train.columns))), columns=X_train.columns)\n",
    "    user_input_df = user_input_df.astype(float)  # Ensure all columns are float64 type\n",
    "    \n",
    "    # Update the DataFrame with the user's input\n",
    "    for feature in user_data:\n",
    "        user_input_df.at[0, feature] = user_data[feature]\n",
    "    \n",
    "    # Normalize and standardize the user's input\n",
    "    user_input_df[features_to_normalize] = scaler.transform(user_input_df[features_to_normalize])\n",
    "    user_input_df = stdScaler.transform(user_input_df)\n",
    "    \n",
    "    return user_input_df\n",
    "    \n",
    "def predict_price(user_input_df):\n",
    "        \n",
    "    # Predict price\n",
    "    price_pred = model.predict(user_input_df)\n",
    "    return price_pred[0]"
   ]
  },
  {
   "cell_type": "code",
   "execution_count": null,
   "id": "c521ae62-bd4f-48f9-af97-f6b7a7f95b25",
   "metadata": {
    "pycharm": {
     "name": "#%%\n"
    }
   },
   "outputs": [],
   "source": [
    "from sklearn.model_selection import train_test_split\n",
    "from sklearn.linear_model import LinearRegression, Ridge, Lasso, ElasticNet\n",
    "from sklearn.ensemble import RandomForestRegressor, GradientBoostingRegressor, ExtraTreesRegressor\n",
    "from sklearn.neighbors import KNeighborsRegressor\n",
    "from sklearn.neural_network import MLPRegressor\n",
    "from sklearn.svm import SVR\n",
    "from sklearn.tree import DecisionTreeRegressor\n",
    "from sklearn.metrics import mean_squared_error, r2_score\n",
    "from sklearn.preprocessing import StandardScaler\n",
    "\n",
    "stdScaler = StandardScaler()\n",
    "\n",
    "# Split the data into training and testing sets\n",
    "X = df.drop('price', axis=1)\n",
    "# print(X.columns)\n",
    "y = df['price']\n",
    "X_train, X_test, y_train, y_test = train_test_split(X, y, test_size=0.2, random_state=42)\n",
    "\n",
    "X_train_scaled = stdScaler.fit_transform(X_train)\n",
    "X_test_scaled = stdScaler.transform(X_test)\n",
    "\n",
    "# Define the models\n",
    "models = {\n",
    "    \"Linear Regression\": LinearRegression(),\n",
    "    # \"Ridge\": Ridge(),\n",
    "    # \"Lasso\": Lasso(),\n",
    "    \"Random Forest\": RandomForestRegressor(random_state=42),\n",
    "    # \"Gradient Boosting\": GradientBoostingRegressor(random_state=42),\n",
    "    # \"Extra Trees\": ExtraTreesRegressor(random_state=42),\n",
    "    # \"KNN\": KNeighborsRegressor(n_neighbors=13),\n",
    "    # \"Support Vector Regression\": SVR(),\n",
    "    # \"Decision Tree\": DecisionTreeRegressor(random_state=42),\n",
    "    # \"Neural Network\": MLPRegressor(batch_size=32, learning_rate_init=0.01, max_iter=10000, random_state=42)\n",
    "}\n",
    "\n",
    "# Train and evaluate each model\n",
    "\n",
    "user_input_df = get_user_input()\n",
    "\n",
    "for name, model in models.items():\n",
    "    # Train the model\n",
    "    model.fit(X_train_scaled, y_train)\n",
    "    \n",
    "    # Make predictions\n",
    "    y_pred = model.predict(X_test_scaled)\n",
    "    \n",
    "    # Evaluate the model\n",
    "    mse = mean_squared_error(y_test, y_pred)\n",
    "    rmse = np.sqrt(mse)\n",
    "    r2 = r2_score(y_test, y_pred)\n",
    "\n",
    "    print()\n",
    "    # print(f\"{name}: Mean Squared Error: {mse}\")\n",
    "    print(f\"{name}: Root Mean Squared Error: {rmse}\")\n",
    "    print(f\"{name}: R² Score: {r2}\")\n",
    "    print()\n",
    "    \n",
    "    predicted_price = predict_price(user_input_df)\n",
    "    print(f\"Predicted Apartment Price: {predicted_price}\")\n",
    "    \n",
    "        "
   ]
  },
  {
   "cell_type": "code",
   "execution_count": null,
   "id": "55af5c22-adf8-4c16-b506-15f0ec10e48e",
   "metadata": {},
   "outputs": [],
   "source": []
  }
 ],
 "metadata": {
  "kernelspec": {
   "display_name": "Python 3 (ipykernel)",
   "language": "python",
   "name": "python3"
  },
  "language_info": {
   "codemirror_mode": {
    "name": "ipython",
    "version": 3
   },
   "file_extension": ".py",
   "mimetype": "text/x-python",
   "name": "python",
   "nbconvert_exporter": "python",
   "pygments_lexer": "ipython3",
   "version": "3.10.7"
  }
 },
 "nbformat": 4,
 "nbformat_minor": 5
}
