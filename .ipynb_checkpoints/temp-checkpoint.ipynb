{
 "cells": [
  {
   "cell_type": "code",
   "execution_count": 17,
   "id": "714baaf7-18a0-47f2-a943-4811c2b8352f",
   "metadata": {
    "pycharm": {
     "name": "#%%\n"
    }
   },
   "outputs": [],
   "source": [
    "import requests\n",
    "import re\n",
    "from bs4 import BeautifulSoup\n",
    "import pandas as pd"
   ]
  },
  {
   "cell_type": "code",
   "execution_count": 3,
   "id": "8502ce2a-0c01-49dd-a86d-38e79087016c",
   "metadata": {
    "pycharm": {
     "name": "#%%\n"
    }
   },
   "outputs": [
    {
     "name": "stdout",
     "output_type": "stream",
     "text": [
      "Found 23 apartment links.\n"
     ]
    }
   ],
   "source": [
    "base_url = \"https://krisha.kz\"\n",
    "search_url = \"https://krisha.kz/prodazha/kvartiry/almaty/\"\n",
    "\n",
    "# Initialize a list to store apartment links\n",
    "apartment_links = []\n",
    "\n",
    "# Assuming a maximum of 100 pages, adjust as needed\n",
    "for page_num in range(1, 2):\n",
    "    # Append the current page number to the search URL\n",
    "    current_page_url = f\"{search_url}?page={page_num}\"\n",
    "\n",
    "    # Send request and parse the page\n",
    "    response = requests.get(current_page_url)\n",
    "    soup = BeautifulSoup(response.text, 'html.parser')\n",
    "\n",
    "    # Check if the page has any listings\n",
    "    listings = soup.find_all(\"a\", class_=\"a-card__title\")\n",
    "    if not listings:\n",
    "        break  # No more listings, exit the loop\n",
    "\n",
    "    # Extract and store the links\n",
    "    for link in listings:\n",
    "        apartment_links.append(base_url + link.get('href'))\n",
    "\n",
    "# Print the total number of links found\n",
    "print(f\"Found {len(apartment_links)} apartment links.\")"
   ]
  },
  {
   "cell_type": "code",
   "execution_count": 23,
   "id": "096b526f-c1d9-4fe9-aba2-b5613e7a54f2",
   "metadata": {
    "pycharm": {
     "name": "#%%\n"
    }
   },
   "outputs": [],
   "source": [
    "def get_apartment_data(url):\n",
    "    response = requests.get(url)\n",
    "    soup = BeautifulSoup(response.text, 'html.parser')\n",
    "\n",
    "    # Extracting room count\n",
    "    title_text = soup.find(\"div\", class_=\"offer__advert-title\").find(\"h1\").text\n",
    "    room_count_match = re.search(r'(\\d+)-комнатная', title_text)\n",
    "    room_count = int(room_count_match.group(1)) if room_count_match else None\n",
    "\n",
    "\n",
    "    # Extracting quadrature\n",
    "    quadrature = float(title_text.split(',')[1].split()[0])\n",
    "\n",
    "    # Extracting floor\n",
    "    floor_div = soup.find(\"div\", {\"data-name\": \"flat.floor\"})\n",
    "    floor_info_text = floor_div.find(\"div\", class_=\"offer__advert-short-info\").text\n",
    "    floor_info = floor_info_text.split('из')\n",
    "    floor = round(float(floor_info[0].strip()) / float(floor_info[1].strip()), 2)\n",
    "\n",
    "\n",
    "    # Extracting region\n",
    "    region = soup.find(\"div\", class_=\"offer__location offer__advert-short-info\").find(\"span\").text\n",
    "\n",
    "    # Extracting year\n",
    "    year_div = soup.find(\"div\", {\"data-name\": \"house.year\"})\n",
    "    year_text = year_div.find(\"div\", class_=\"offer__advert-short-info\").text\n",
    "    year = int(''.join(filter(str.isdigit, year_text)))\n",
    "\n",
    "    # Extracting price\n",
    "    price_text = soup.find(\"div\", class_=\"offer__price\").text\n",
    "    price = int(\"\".join(filter(str.isdigit, price_text)))\n",
    "\n",
    "    return {\"room_count\": room_count,\n",
    "            \"quadrature\": quadrature,\n",
    "            \"floor\": floor,\n",
    "            \"region\": region,\n",
    "            \"year\": year,\n",
    "            \"price\": price}\n"
   ]
  },
  {
   "cell_type": "code",
   "execution_count": 24,
   "id": "0b55a8a9-6027-405d-89d2-5dad89868861",
   "metadata": {
    "pycharm": {
     "name": "#%%\n"
    }
   },
   "outputs": [],
   "source": [
    "data = []\n",
    "for link in apartment_links:\n",
    "    try:\n",
    "        apartment_data = get_apartment_data(link)\n",
    "        data.append(apartment_data)\n",
    "    except Exception as e:\n",
    "        print(f\"Failed to extract data from {link}. Error: {e}\")\n"
   ]
  },
  {
   "cell_type": "code",
   "execution_count": 25,
   "id": "113af102-095c-4f4e-9f74-ee76f93dae28",
   "metadata": {
    "pycharm": {
     "name": "#%%\n"
    }
   },
   "outputs": [
    {
     "data": {
      "text/plain": [
       "[{'room_count': 4,\n",
       "  'quadrature': 190.0,\n",
       "  'floor': 0.67,\n",
       "  'region': 'Алматы, Медеуский р-н',\n",
       "  'year': 1997,\n",
       "  'price': 175000000},\n",
       " {'room_count': 3,\n",
       "  'quadrature': 70.0,\n",
       "  'floor': 0.5,\n",
       "  'region': 'Алматы, Бостандыкский р-н',\n",
       "  'year': 1957,\n",
       "  'price': 45000000},\n",
       " {'room_count': 3,\n",
       "  'quadrature': 66.0,\n",
       "  'floor': 0.2,\n",
       "  'region': 'Алматы, Алмалинский р-н',\n",
       "  'year': 1976,\n",
       "  'price': 51500000},\n",
       " {'room_count': 3,\n",
       "  'quadrature': 78.0,\n",
       "  'floor': 1.0,\n",
       "  'region': 'Алматы, Наурызбайский р-н',\n",
       "  'year': 2019,\n",
       "  'price': 40500000},\n",
       " {'room_count': 2,\n",
       "  'quadrature': 63.4,\n",
       "  'floor': 0.89,\n",
       "  'region': 'Алматы, Турксибский р-н',\n",
       "  'year': 2017,\n",
       "  'price': 37900000},\n",
       " {'room_count': 3,\n",
       "  'quadrature': 80.0,\n",
       "  'floor': 1.0,\n",
       "  'region': 'Алматы, Алмалинский р-н',\n",
       "  'year': 1978,\n",
       "  'price': 56000000},\n",
       " {'room_count': 2,\n",
       "  'quadrature': 67.0,\n",
       "  'floor': 0.22,\n",
       "  'region': 'Алматы, Медеуский р-н',\n",
       "  'year': 2021,\n",
       "  'price': 54000000},\n",
       " {'room_count': 1,\n",
       "  'quadrature': 33.0,\n",
       "  'floor': 0.8,\n",
       "  'region': 'Алматы, Ауэзовский р-н',\n",
       "  'year': 2023,\n",
       "  'price': 20000000},\n",
       " {'room_count': 2,\n",
       "  'quadrature': 98.8,\n",
       "  'floor': 0.6,\n",
       "  'region': 'Алматы, Ауэзовский р-н',\n",
       "  'year': 2007,\n",
       "  'price': 68000000},\n",
       " {'room_count': 4,\n",
       "  'quadrature': 104.0,\n",
       "  'floor': 0.23,\n",
       "  'region': 'Алматы, Алмалинский р-н',\n",
       "  'year': 2021,\n",
       "  'price': 117000000},\n",
       " {'room_count': 3,\n",
       "  'quadrature': 107.2,\n",
       "  'floor': 0.77,\n",
       "  'region': 'Алматы, Ауэзовский р-н',\n",
       "  'year': 2013,\n",
       "  'price': 61000000},\n",
       " {'room_count': 2,\n",
       "  'quadrature': 61.4,\n",
       "  'floor': 0.33,\n",
       "  'region': 'Алматы, Бостандыкский р-н',\n",
       "  'year': 2022,\n",
       "  'price': 37950000},\n",
       " {'room_count': 1,\n",
       "  'quadrature': 15.0,\n",
       "  'floor': 1.0,\n",
       "  'region': 'Алматы, Алатауский р-н',\n",
       "  'year': 2019,\n",
       "  'price': 11440000},\n",
       " {'room_count': 1,\n",
       "  'quadrature': 40.0,\n",
       "  'floor': 0.4,\n",
       "  'region': 'Алматы, Турксибский р-н',\n",
       "  'year': 2017,\n",
       "  'price': 23500000},\n",
       " {'room_count': 4,\n",
       "  'quadrature': 127.0,\n",
       "  'floor': 1.0,\n",
       "  'region': 'Алматы, Алмалинский р-н',\n",
       "  'year': 1958,\n",
       "  'price': 166000000},\n",
       " {'room_count': 1,\n",
       "  'quadrature': 44.5,\n",
       "  'floor': 0.2,\n",
       "  'region': 'Алматы, Бостандыкский р-н',\n",
       "  'year': 1989,\n",
       "  'price': 35000000},\n",
       " {'room_count': 3,\n",
       "  'quadrature': 107.5,\n",
       "  'floor': 0.62,\n",
       "  'region': 'Алматы, Бостандыкский р-н',\n",
       "  'year': 2021,\n",
       "  'price': 110000000},\n",
       " {'room_count': 2,\n",
       "  'quadrature': 44.6,\n",
       "  'floor': 0.75,\n",
       "  'region': 'Алматы, Бостандыкский р-н',\n",
       "  'year': 1966,\n",
       "  'price': 25999999},\n",
       " {'room_count': 1,\n",
       "  'quadrature': 46.1,\n",
       "  'floor': 0.5,\n",
       "  'region': 'Алматы, Ауэзовский р-н',\n",
       "  'year': 2015,\n",
       "  'price': 35499999},\n",
       " {'room_count': 2,\n",
       "  'quadrature': 70.0,\n",
       "  'floor': 0.9,\n",
       "  'region': 'Алматы, Наурызбайский р-н',\n",
       "  'year': 2020,\n",
       "  'price': 33500000},\n",
       " {'room_count': 2,\n",
       "  'quadrature': 60.0,\n",
       "  'floor': 0.75,\n",
       "  'region': 'Алматы, Алмалинский р-н',\n",
       "  'year': 2019,\n",
       "  'price': 60600000},\n",
       " {'room_count': 2,\n",
       "  'quadrature': 51.6,\n",
       "  'floor': 0.75,\n",
       "  'region': 'Алматы, Бостандыкский р-н',\n",
       "  'year': 2023,\n",
       "  'price': 44500000},\n",
       " {'room_count': 1,\n",
       "  'quadrature': 39.0,\n",
       "  'floor': 0.11,\n",
       "  'region': 'Алматы, Наурызбайский р-н',\n",
       "  'year': 2017,\n",
       "  'price': 23000000}]"
      ]
     },
     "execution_count": 25,
     "metadata": {},
     "output_type": "execute_result"
    }
   ],
   "source": [
    "data"
   ]
  },
  {
   "cell_type": "code",
   "execution_count": null,
   "id": "291aea67-c5bf-4f6a-aacd-93a739e7cde3",
   "metadata": {
    "pycharm": {
     "name": "#%%\n"
    }
   },
   "outputs": [],
   "source": []
  }
 ],
 "metadata": {
  "kernelspec": {
   "display_name": "Python 3 (ipykernel)",
   "language": "python",
   "name": "python3"
  },
  "language_info": {
   "codemirror_mode": {
    "name": "ipython",
    "version": 3
   },
   "file_extension": ".py",
   "mimetype": "text/x-python",
   "name": "python",
   "nbconvert_exporter": "python",
   "pygments_lexer": "ipython3",
   "version": "3.10.7"
  }
 },
 "nbformat": 4,
 "nbformat_minor": 5
}