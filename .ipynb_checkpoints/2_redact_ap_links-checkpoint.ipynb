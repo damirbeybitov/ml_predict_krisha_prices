{
 "cells": [
  {
   "cell_type": "code",
   "execution_count": null,
   "id": "36819215-4ee6-450c-9b07-869ef0e0fd11",
   "metadata": {},
   "outputs": [],
   "source": [
    "import pandas as pd"
   ]
  },
  {
   "cell_type": "code",
   "execution_count": null,
   "id": "b8b91281-630e-43d8-b02b-08c4baddca8b",
   "metadata": {},
   "outputs": [],
   "source": [
    "df = pd.read_csv('links.csv')\n",
    "df.shape"
   ]
  },
  {
   "cell_type": "code",
   "execution_count": null,
   "id": "656a0b52-43a7-43fb-8da5-ae292372e6ff",
   "metadata": {},
   "outputs": [],
   "source": [
    "df = df.drop_duplicates()\n",
    "df.shape"
   ]
  },
  {
   "cell_type": "code",
   "execution_count": null,
   "id": "affdd801-3de3-4909-875d-19163fd3b475",
   "metadata": {},
   "outputs": [],
   "source": [
    "df.to_csv('last_links_of_ap.csv', index=False)"
   ]
  }
 ],
 "metadata": {
  "kernelspec": {
   "display_name": "Python 3 (ipykernel)",
   "language": "python",
   "name": "python3"
  },
  "language_info": {
   "codemirror_mode": {
    "name": "ipython",
    "version": 3
   },
   "file_extension": ".py",
   "mimetype": "text/x-python",
   "name": "python",
   "nbconvert_exporter": "python",
   "pygments_lexer": "ipython3",
   "version": "3.10.7"
  }
 },
 "nbformat": 4,
 "nbformat_minor": 5
}
