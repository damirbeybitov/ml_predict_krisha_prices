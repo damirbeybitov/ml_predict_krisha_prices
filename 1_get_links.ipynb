{
 "cells": [
  {
   "cell_type": "code",
   "execution_count": 2,
   "id": "75976ae6-6040-4072-8c1b-d86270d38292",
   "metadata": {
    "pycharm": {
     "name": "#%%\n"
    }
   },
   "outputs": [],
   "source": [
    "import csv\n",
    "import time\n",
    "import requests\n",
    "from bs4 import BeautifulSoup"
   ]
  },
  {
   "cell_type": "code",
   "execution_count": 3,
   "id": "42f2fa85-5d2f-45a3-8f82-5c8ec58e2c8f",
   "metadata": {
    "pycharm": {
     "name": "#%%\n"
    }
   },
   "outputs": [
    {
     "name": "stdout",
     "output_type": "stream",
     "text": [
      "[<a class=\"a-card__title tm-click-checked-hot-adv\" href=\"/a/show/689131953\" target=\"_blank\">2-комнатная квартира, 48 м², 9/14 этаж</a>, <a class=\"a-card__title tm-click-checked-hot-adv\" href=\"/a/show/688088687\" target=\"_blank\">1-комнатная квартира, 43 м², 3/9 этаж</a>, <a class=\"a-card__title tm-click-checked-hot-adv\" href=\"/a/show/689167332\" target=\"_blank\">2-комнатная квартира, 48 м², 6/7 этаж</a>, <a class=\"a-card__title\" href=\"/a/show/687901147\" target=\"_blank\">2-комнатная квартира, 60 м², 2/9 этаж</a>, <a class=\"a-card__title\" href=\"/a/show/689062573\" target=\"_blank\">4-комнатная квартира, 138 м², 7/14 этаж</a>, <a class=\"a-card__title\" href=\"/a/show/688716289\" target=\"_blank\">3-комнатная квартира, 83.7 м²</a>, <a class=\"a-card__title\" href=\"/a/show/688494381\" target=\"_blank\">3-комнатная квартира, 76 м², 4/9 этаж</a>, <a class=\"a-card__title\" href=\"/a/show/688300934\" target=\"_blank\">1-комнатная квартира, 51 м², 6/10 этаж</a>, <a class=\"a-card__title\" href=\"/a/show/687555699\" target=\"_blank\">4-комнатная квартира, 130 м², 1/3 этаж</a>, <a class=\"a-card__title\" href=\"/a/show/687248539\" target=\"_blank\">2-комнатная квартира, 46.6 м², 10/13 этаж</a>, <a class=\"a-card__title\" href=\"/a/show/679310139\" target=\"_blank\">2-комнатная квартира, 60 м², 12/12 этаж</a>, <a class=\"a-card__title tm-click-checked-hot-adv\" href=\"/a/show/57431201\" target=\"_blank\">2-комнатная квартира, 78.2 м²</a>, <a class=\"a-card__title tm-click-checked-hot-adv\" href=\"/a/show/674137126\" target=\"_blank\">3-комнатная квартира, 118.8 м²</a>, <a class=\"a-card__title tm-click-checked-hot-adv\" href=\"/a/show/680742053\" target=\"_blank\">2-комнатная квартира, 82.8 м²</a>, <a class=\"a-card__title\" href=\"/a/show/688647070\" target=\"_blank\">2-комнатная квартира, 56.2 м²</a>, <a class=\"a-card__title\" href=\"/a/show/683799314\" target=\"_blank\">2-комнатная квартира, 69.4 м²</a>, <a class=\"a-card__title\" href=\"/a/show/678891417\" target=\"_blank\">3-комнатная квартира, 94.8 м²</a>, <a class=\"a-card__title\" href=\"/a/show/677379839\" target=\"_blank\">5-комнатная квартира, 168.5 м²</a>, <a class=\"a-card__title\" href=\"/a/show/687974120\" target=\"_blank\">2-комнатная квартира, 43 м²</a>, <a class=\"a-card__title\" href=\"/a/show/686713685\" target=\"_blank\">3-комнатная квартира, 62 м², 5/5 этаж</a>, <a class=\"a-card__title\" href=\"/a/show/669670638\" target=\"_blank\">2-комнатная квартира, 49.8 м²</a>, <a class=\"a-card__title\" href=\"/a/show/689022914\" target=\"_blank\">4-комнатная квартира, 233.1 м²</a>, <a class=\"a-card__title\" href=\"/a/show/688803288\" target=\"_blank\">1-комнатная квартира, 57 м²</a>]\n",
      "Found 23 apartment links.\n"
     ]
    }
   ],
   "source": [
    "base_url = \"https://krisha.kz\"\n",
    "search_url = \"https://krisha.kz/prodazha/kvartiry/almaty/\"\n",
    "\n",
    "# Initialize a list to store apartment links\n",
    "apartment_links = []\n",
    "\n",
    "# in range() you need to change from what page and to what page\n",
    "for page_num in range(1, 100):\n",
    "    # Append the current page number to the search URL\n",
    "    current_page_url = f\"{search_url}?page={page_num}\"\n",
    "\n",
    "    # Send request and parse the page\n",
    "    response = requests.get(current_page_url)\n",
    "    time.sleep(1)\n",
    "    soup = BeautifulSoup(response.text, 'html.parser')\n",
    "\n",
    "    # Check if the page has any listings\n",
    "    listings = soup.find_all(\"a\", class_=\"a-card__title\")\n",
    "    # print(listings)\n",
    "    if not listings:\n",
    "        break  # No more listings, exit the loop\n",
    "\n",
    "    # Extract and store the links\n",
    "    for link in listings:\n",
    "        apartment_links.append(base_url + link.get('href'))\n",
    "\n",
    "# Print the total number of links found\n",
    "print(f\"Found {len(apartment_links)} apartment links.\")\n",
    "\n",
    "with open('links.csv', 'a', newline='', encoding='utf-8') as csvfile:\n",
    "    csv_writer = csv.writer(csvfile)\n",
    "    for apartment_link in apartment_links:\n",
    "        csv_writer.writerow({apartment_link})"
   ]
  },
  {
   "cell_type": "code",
   "execution_count": null,
   "id": "c5e9f9f6-e308-4cec-a530-29f43ebecaa7",
   "metadata": {
    "pycharm": {
     "name": "#%%\n"
    }
   },
   "outputs": [],
   "source": []
  }
 ],
 "metadata": {
  "kernelspec": {
   "display_name": "Python 3 (ipykernel)",
   "language": "python",
   "name": "python3"
  },
  "language_info": {
   "codemirror_mode": {
    "name": "ipython",
    "version": 3
   },
   "file_extension": ".py",
   "mimetype": "text/x-python",
   "name": "python",
   "nbconvert_exporter": "python",
   "pygments_lexer": "ipython3",
   "version": "3.10.7"
  }
 },
 "nbformat": 4,
 "nbformat_minor": 5
}