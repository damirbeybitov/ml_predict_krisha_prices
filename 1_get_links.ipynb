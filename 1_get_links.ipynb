{
 "cells": [
  {
   "cell_type": "code",
   "execution_count": null,
   "id": "75976ae6-6040-4072-8c1b-d86270d38292",
   "metadata": {
    "pycharm": {
     "name": "#%%\n"
    }
   },
   "outputs": [],
   "source": [
    "import csv\n",
    "import time\n",
    "import requests\n",
    "from bs4 import BeautifulSoup"
   ]
  },
  {
   "cell_type": "code",
   "execution_count": null,
   "id": "42f2fa85-5d2f-45a3-8f82-5c8ec58e2c8f",
   "metadata": {
    "pycharm": {
     "name": "#%%\n"
    }
   },
   "outputs": [],
   "source": [
    "base_url = \"https://krisha.kz\"\n",
    "search_url = \"https://krisha.kz/prodazha/kvartiry/almaty/\"\n",
    "\n",
    "# Initialize a list to store apartment links\n",
    "apartment_links = []\n",
    "\n",
    "# in range() you need to change from what page and to what page\n",
    "for page_num in range(1, 2):\n",
    "    # Append the current page number to the search URL\n",
    "    current_page_url = f\"{search_url}?page={page_num}\"\n",
    "\n",
    "    # Send request and parse the page\n",
    "    response = requests.get(current_page_url)\n",
    "    time.sleep(1)\n",
    "    soup = BeautifulSoup(response.text, 'html.parser')\n",
    "\n",
    "    # Check if the page has any listings\n",
    "    listings = soup.find_all(\"a\", class_=\"a-card__title\")\n",
    "    # print(listings)\n",
    "    if not listings:\n",
    "        break  # No more listings, exit the loop\n",
    "\n",
    "    # Extract and store the links\n",
    "    for link in listings:\n",
    "        apartment_links.append(base_url + link.get('href'))\n",
    "\n",
    "# Print the total number of links found\n",
    "print(f\"Found {len(apartment_links)} apartment links.\")\n",
    "\n",
    "with open('links.csv', 'a', newline='', encoding='utf-8') as csvfile:\n",
    "    csv_writer = csv.writer(csvfile)\n",
    "    for apartment_link in apartment_links:\n",
    "        csv_writer.writerow({apartment_link})"
   ]
  },
  {
   "cell_type": "code",
   "execution_count": null,
   "id": "c5e9f9f6-e308-4cec-a530-29f43ebecaa7",
   "metadata": {
    "pycharm": {
     "name": "#%%\n"
    }
   },
   "outputs": [],
   "source": []
  }
 ],
 "metadata": {
  "kernelspec": {
   "display_name": "Python 3 (ipykernel)",
   "language": "python",
   "name": "python3"
  },
  "language_info": {
   "codemirror_mode": {
    "name": "ipython",
    "version": 3
   },
   "file_extension": ".py",
   "mimetype": "text/x-python",
   "name": "python",
   "nbconvert_exporter": "python",
   "pygments_lexer": "ipython3",
   "version": "3.10.7"
  }
 },
 "nbformat": 4,
 "nbformat_minor": 5
}