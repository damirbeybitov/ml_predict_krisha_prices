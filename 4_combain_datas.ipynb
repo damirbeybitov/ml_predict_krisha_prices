{
 "cells": [
  {
   "cell_type": "code",
   "execution_count": null,
   "id": "96f4bdd1-8683-41a9-81df-e0159d3e44d5",
   "metadata": {
    "pycharm": {
     "name": "#%%\n"
    }
   },
   "outputs": [],
   "source": [
    "import pandas as pd"
   ]
  },
  {
   "cell_type": "code",
   "execution_count": null,
   "id": "ea0e3273-c651-4103-80b1-f4acde1ddb88",
   "metadata": {
    "pycharm": {
     "name": "#%%\n"
    }
   },
   "outputs": [],
   "source": [
    "files = ['apartments_data_00000-01000.csv', 'apartments_data_01000-02000.csv', \n",
    "         'apartments_data_02000-03000.csv', 'apartments_data_03000-04000.csv', \n",
    "         'apartments_data_04000-06000.csv', 'apartments_data_06000-08000.csv', \n",
    "         'apartments_data_08000-10000.csv', \n",
    "         'apartments_data_10000-11000.csv', 'apartments_data_11000-12000.csv', \n",
    "         'apartments_data_12000-13000.csv', 'apartments_data_13000-14000.csv', \n",
    "         'apartments_data_14000-15000.csv', 'apartments_data_15000-16000.csv', \n",
    "         'apartments_data_16000-17000.csv', 'apartments_data_17000-18000.csv', \n",
    "         'apartments_data_18000-19000.csv', 'apartments_data_19000-20000.csv', \n",
    "         'apartments_data_20000-21000.csv', 'apartments_data_21000-22000.csv', \n",
    "         'apartments_data_22000-24000.csv', 'apartments_data_24000-25000.csv',\n",
    "         'apartments_data_25000-26000.csv', 'apartments_data_26000-28000.csv', \n",
    "         'apartments_data_28000-30000.csv', 'apartments_data_30000-to_end.csv']"
   ]
  },
  {
   "cell_type": "code",
   "execution_count": null,
   "id": "73c2d2fd-8e8d-487a-bcdc-2b6eacb42162",
   "metadata": {
    "pycharm": {
     "name": "#%%\n"
    }
   },
   "outputs": [],
   "source": [
    "dfs = [pd.read_csv(file) for file in files]\n",
    "combined_df = pd.concat(dfs, axis=0, ignore_index=True)\n",
    "combined_df"
   ]
  },
  {
   "cell_type": "code",
   "execution_count": null,
   "id": "447d8914-5586-4c54-8ac7-cbb561fde78e",
   "metadata": {
    "pycharm": {
     "name": "#%%\n"
    }
   },
   "outputs": [],
   "source": [
    "combined_df.to_csv('ap_data.csv', index=False)"
   ]
  },
  {
   "cell_type": "code",
   "execution_count": null,
   "id": "8af046e8-6096-4bdb-ac09-6425edda98d7",
   "metadata": {
    "pycharm": {
     "name": "#%%\n"
    }
   },
   "outputs": [],
   "source": []
  }
 ],
 "metadata": {
  "kernelspec": {
   "display_name": "Python 3 (ipykernel)",
   "language": "python",
   "name": "python3"
  },
  "language_info": {
   "codemirror_mode": {
    "name": "ipython",
    "version": 3
   },
   "file_extension": ".py",
   "mimetype": "text/x-python",
   "name": "python",
   "nbconvert_exporter": "python",
   "pygments_lexer": "ipython3",
   "version": "3.10.7"
  }
 },
 "nbformat": 4,
 "nbformat_minor": 5
}